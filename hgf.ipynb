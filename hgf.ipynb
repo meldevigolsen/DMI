{
 "cells": [
  {
   "cell_type": "code",
   "execution_count": null,
   "metadata": {
    "collapsed": true
   },
   "outputs": [],
   "source": [
    "import datetime\n",
    "from statsmodels.graphics.tsaplots import plot_acf\n",
    "from statsmodels.tsa.arima_model import ARIMA, ARIMAResults\n",
    "from matplotlib import  pyplot\n",
    "import api\n",
    "from dmi.fetching import objects\n",
    "\n",
    "country = objects.Countries.DENMARK.value\n",
    "area = country.areas[1]\n",
    "\n",
    "start_date = datetime.datetime.strptime('1/1-2019', '%d/%m-%Y')\n",
    "end_date = datetime.datetime.strptime('1/2-2019', '%d/%m-%Y')\n",
    "\n",
    "data_batch = api.get_data_batch(\n",
    "    area, objects.DataTypes.TEMPERATURE, objects.Intervals.HOURLY, start_date)\n",
    "\n",
    "data = data_batch.dmi_series_list[0].series.values"
   ]
  },
  {
   "cell_type": "code",
   "execution_count": null,
   "outputs": [],
   "source": [
    "model = ARIMA(data, (0,1,0))\n",
    "model_fit: ARIMAResults = model.fit(disp=0)\n",
    "print(model_fit.summary())\n",
    "model_fit.plot_predict(end=len(data))\n",
    "pyplot.grid()\n",
    "plot_acf(model_fit.resid)\n",
    "pyplot.grid()\n",
    "pyplot.show()\n"
   ],
   "metadata": {
    "collapsed": false,
    "pycharm": {
     "name": "#%%\n"
    }
   }
  }
 ],
 "metadata": {
  "kernelspec": {
   "display_name": "Python 3",
   "language": "python",
   "name": "python3"
  },
  "language_info": {
   "codemirror_mode": {
    "name": "ipython",
    "version": 2
   },
   "file_extension": ".py",
   "mimetype": "text/x-python",
   "name": "python",
   "nbconvert_exporter": "python",
   "pygments_lexer": "ipython2",
   "version": "2.7.6"
  },
  "pycharm": {
   "stem_cell": {
    "cell_type": "raw",
    "source": [],
    "metadata": {
     "collapsed": false
    }
   }
  }
 },
 "nbformat": 4,
 "nbformat_minor": 0
}